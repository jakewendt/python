{
 "cells": [
  {
   "cell_type": "markdown",
   "metadata": {},
   "source": [
    "And even ruby with ...\n",
    "\n",
    "```\n",
    "$ sudo port install libtool autoconf automake autogen \n",
    "$ gem install cztop rbczmq ffi-rzmq\n",
    "$ gem install iruby\n",
    "Consider installing the optional dependencies to get additional functionality:\n",
    "  * pry\n",
    "  * pry-doc\n",
    "  * awesome_print\n",
    "  * gnuplot\n",
    "  * rubyvis\n",
    "  * nyaplot\n",
    "\n",
    "Successfully installed iruby-0.3\n",
    "Parsing documentation for iruby-0.3\n",
    "Done installing documentation for iruby after 0 seconds\n",
    "1 gem installed\n",
    "$ iruby register\n",
    "$ jupyter kernelspec list\n",
    "Available kernels:\n",
    "  ruby       /Users/jakewendt/.ipython/kernels/ruby\n",
    "  python2    /Users/jakewendt/Library/Python/2.7/lib/python/site-packages/ipykernel/resources\n",
    "  bash       /Users/jakewendt/Library/Jupyter/kernels/bash\n",
    "  ir         /Users/jakewendt/Library/Jupyter/kernels/ir\n",
    "  python3    /Users/jakewendt/Library/Jupyter/kernels/python3\n",
    "```"
   ]
  },
  {
   "cell_type": "code",
   "execution_count": 1,
   "metadata": {},
   "outputs": [
    {
     "data": {
      "text/plain": [
       "[1, 2, 3]"
      ]
     },
     "execution_count": 1,
     "metadata": {},
     "output_type": "execute_result"
    }
   ],
   "source": [
    "x=[1,2,3]"
   ]
  },
  {
   "cell_type": "code",
   "execution_count": 2,
   "metadata": {},
   "outputs": [
    {
     "data": {
      "text/plain": [
       "[1, 2, 3]"
      ]
     },
     "execution_count": 2,
     "metadata": {},
     "output_type": "execute_result"
    }
   ],
   "source": [
    "x"
   ]
  },
  {
   "cell_type": "code",
   "execution_count": 3,
   "metadata": {},
   "outputs": [
    {
     "data": {
      "text/plain": [
       "Array"
      ]
     },
     "execution_count": 3,
     "metadata": {},
     "output_type": "execute_result"
    }
   ],
   "source": [
    "x.class"
   ]
  },
  {
   "cell_type": "markdown",
   "metadata": {},
   "source": [
    "The server does complain a bit though. Works though."
   ]
  },
  {
   "cell_type": "code",
   "execution_count": null,
   "metadata": {},
   "outputs": [],
   "source": []
  }
 ],
 "metadata": {
  "kernelspec": {
   "display_name": "Ruby 2.3.6",
   "language": "ruby",
   "name": "ruby"
  },
  "language_info": {
   "file_extension": ".rb",
   "mimetype": "application/x-ruby",
   "name": "ruby",
   "version": "2.3.6"
  }
 },
 "nbformat": 4,
 "nbformat_minor": 2
}
