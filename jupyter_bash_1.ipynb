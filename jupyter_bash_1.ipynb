{
 "cells": [
  {
   "cell_type": "markdown",
   "metadata": {},
   "source": [
    "There's even a bash kernel available!\n",
    "\n",
    "```\n",
    "$ pip install --upgrade --user bash_kernel\n",
    "\n",
    "$ jupyter kernelspec list\n",
    "Available kernels:\n",
    "  python2    /Users/jakewendt/Library/Python/2.7/lib/python/site-packages/ipykernel/resources\n",
    "  ir         /Users/jakewendt/Library/Jupyter/kernels/ir\n",
    "  python3    /Users/jakewendt/Library/Jupyter/kernels/python3\n",
    "$ python -m bash_kernel.install\n",
    "Installing IPython kernel spec\n",
    "$ jupyter kernelspec list\n",
    "Available kernels:\n",
    "  python2    /Users/jakewendt/Library/Python/2.7/lib/python/site-packages/ipykernel/resources\n",
    "  bash       /Users/jakewendt/Library/Jupyter/kernels/bash\n",
    "  ir         /Users/jakewendt/Library/Jupyter/kernels/ir\n",
    "  python3    /Users/jakewendt/Library/Jupyter/kernels/python3\n",
    "```"
   ]
  },
  {
   "cell_type": "code",
   "execution_count": 1,
   "metadata": {},
   "outputs": [
    {
     "name": "stdout",
     "output_type": "stream",
     "text": [
      "LICENSE    Untitled.ipynb  jupyter_R_1.ipynb\t    jupyter_python3_1.ipynb\n",
      "README.md  demo.py\t   jupyter_python2_1.ipynb\n"
     ]
    }
   ],
   "source": [
    "ls"
   ]
  },
  {
   "cell_type": "code",
   "execution_count": 2,
   "metadata": {},
   "outputs": [
    {
     "name": "stdout",
     "output_type": "stream",
     "text": [
      "/Users/jakewendt/github/jakewendt/python\n"
     ]
    }
   ],
   "source": [
    "pwd"
   ]
  },
  {
   "cell_type": "code",
   "execution_count": 3,
   "metadata": {},
   "outputs": [
    {
     "name": "stdout",
     "output_type": "stream",
     "text": [
      "COOL!\n"
     ]
    }
   ],
   "source": [
    "echo \"COOL!\""
   ]
  },
  {
   "cell_type": "code",
   "execution_count": null,
   "metadata": {},
   "outputs": [],
   "source": []
  }
 ],
 "metadata": {
  "kernelspec": {
   "display_name": "Bash",
   "language": "bash",
   "name": "bash"
  },
  "language_info": {
   "codemirror_mode": "shell",
   "file_extension": ".sh",
   "mimetype": "text/x-sh",
   "name": "bash"
  }
 },
 "nbformat": 4,
 "nbformat_minor": 2
}
