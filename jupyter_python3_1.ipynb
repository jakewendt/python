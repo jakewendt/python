{
 "cells": [
  {
   "cell_type": "markdown",
   "metadata": {},
   "source": [
    "To get Python 3 as an option, I ...\n",
    "\n",
    "```\n",
    "python3 -m ipykernel install --user\n",
    "Installed kernelspec python3 in /Users/jakewendt/Library/Jupyter/kernels/python3\n",
    "\n",
    "jupyter kernelspec list\n",
    "Available kernels:\n",
    "  python2    /Users/jakewendt/Library/Python/2.7/lib/python/site-packages/ipykernel/resources\n",
    "  ir         /Users/jakewendt/Library/Jupyter/kernels/ir\n",
    "  python3    /Users/jakewendt/Library/Jupyter/kernels/python3\n",
    "```"
   ]
  },
  {
   "cell_type": "code",
   "execution_count": 2,
   "metadata": {},
   "outputs": [
    {
     "data": {
      "text/plain": [
       "sys.version_info(major=3, minor=6, micro=4, releaselevel='final', serial=0)"
      ]
     },
     "execution_count": 2,
     "metadata": {},
     "output_type": "execute_result"
    }
   ],
   "source": [
    "import sys\n",
    "sys.version_info"
   ]
  },
  {
   "cell_type": "code",
   "execution_count": 3,
   "metadata": {},
   "outputs": [
    {
     "data": {
      "text/plain": [
       "'3.6.4 (default, Dec 21 2017, 20:33:21) \\n[GCC 4.2.1 Compatible Apple LLVM 9.0.0 (clang-900.0.38)]'"
      ]
     },
     "execution_count": 3,
     "metadata": {},
     "output_type": "execute_result"
    }
   ],
   "source": [
    "sys.version"
   ]
  }
 ],
 "metadata": {
  "kernelspec": {
   "display_name": "Python 3",
   "language": "python",
   "name": "python3"
  },
  "language_info": {
   "codemirror_mode": {
    "name": "ipython",
    "version": 3
   },
   "file_extension": ".py",
   "mimetype": "text/x-python",
   "name": "python",
   "nbconvert_exporter": "python",
   "pygments_lexer": "ipython3",
   "version": "3.6.4"
  }
 },
 "nbformat": 4,
 "nbformat_minor": 2
}
