{
 "cells": [
  {
   "cell_type": "markdown",
   "metadata": {},
   "source": [
    "Forecasting"
   ]
  },
  {
   "cell_type": "code",
   "execution_count": 1,
   "metadata": {},
   "outputs": [
    {
     "name": "stderr",
     "output_type": "stream",
     "text": [
      "Loading required package: zoo\n",
      "\n",
      "Attaching package: ‘zoo’\n",
      "\n",
      "The following objects are masked from ‘package:base’:\n",
      "\n",
      "    as.Date, as.Date.numeric\n",
      "\n",
      "Successfully loaded changepoint package version 2.2.2\n",
      " NOTE: Predefined penalty values changed in version 2.2.  Previous penalty values with a postfix 1 i.e. SIC1 are now without i.e. SIC and previous penalties without a postfix i.e. SIC are now with a postfix 0 i.e. SIC0. See NEWS and help files for further details.\n"
     ]
    }
   ],
   "source": [
    "library(changepoint)"
   ]
  },
  {
   "cell_type": "code",
   "execution_count": 2,
   "metadata": {},
   "outputs": [],
   "source": [
    "susceptibilities=c(96, 94, 86, 97, 83, 79, 80, 78, 71, 81, 80, 80, 60, 84, 60, 83, 82, 82, 78)"
   ]
  },
  {
   "cell_type": "code",
   "execution_count": 3,
   "metadata": {},
   "outputs": [
    {
     "data": {
      "text/html": [
       "19"
      ],
      "text/latex": [
       "19"
      ],
      "text/markdown": [
       "19"
      ],
      "text/plain": [
       "[1] 19"
      ]
     },
     "metadata": {},
     "output_type": "display_data"
    }
   ],
   "source": [
    "n=length(susceptibilities)\n",
    "n"
   ]
  },
  {
   "cell_type": "code",
   "execution_count": 4,
   "metadata": {},
   "outputs": [
    {
     "name": "stderr",
     "output_type": "stream",
     "text": [
      "Warning message in penalty_decision(penalty, pen.value, n, diffparam, asymcheck = costfunc, :\n",
      "“Asymptotic penalty value is not accurate for multiple changes, it should be treated the same as a manual penalty choice.”"
     ]
    }
   ],
   "source": [
    "change_points = cpt.mean(susceptibilities, method = \"PELT\", penalty = \"Asymptotic\",\n",
    "\tpen.value = 0.05, class = TRUE, param.estimates = TRUE, test.stat = \"Normal\")"
   ]
  },
  {
   "cell_type": "code",
   "execution_count": 5,
   "metadata": {},
   "outputs": [
    {
     "data": {
      "text/plain": [
       "Class 'cpt' : Changepoint Object\n",
       "       ~~   : S4 class containing 12 slots with names\n",
       "              cpttype date version data.set method test.stat pen.type pen.value minseglen cpts ncpts.max param.est \n",
       "\n",
       "Created on  : Thu Dec 14 14:05:41 2017 \n",
       "\n",
       "summary(.)  :\n",
       "----------\n",
       "Created Using changepoint version 2.2.2 \n",
       "Changepoint type      : Change in mean \n",
       "Method of analysis    : PELT \n",
       "Test Statistic  : Normal \n",
       "Type of penalty       : Asymptotic with value, 19.16635 \n",
       "Minimum Segment Length : 1 \n",
       "Maximum no. of cpts   : Inf \n",
       "Changepoint Locations : 2 3 4 8 9 12 13 14 15 "
      ]
     },
     "metadata": {},
     "output_type": "display_data"
    }
   ],
   "source": [
    "change_points"
   ]
  },
  {
   "cell_type": "markdown",
   "metadata": {},
   "source": [
    "Seems really excessive"
   ]
  },
  {
   "cell_type": "code",
   "execution_count": 6,
   "metadata": {},
   "outputs": [
    {
     "data": {
      "text/html": [
       "9"
      ],
      "text/latex": [
       "9"
      ],
      "text/markdown": [
       "9"
      ],
      "text/plain": [
       "[1] 9"
      ]
     },
     "metadata": {},
     "output_type": "display_data"
    }
   ],
   "source": [
    "number_of_change_points = length(cpts(change_points))\n",
    "number_of_change_points"
   ]
  },
  {
   "cell_type": "code",
   "execution_count": 7,
   "metadata": {},
   "outputs": [
    {
     "data": {
      "text/html": [
       "<ol class=list-inline>\n",
       "\t<li>2</li>\n",
       "\t<li>3</li>\n",
       "\t<li>4</li>\n",
       "\t<li>8</li>\n",
       "\t<li>9</li>\n",
       "\t<li>12</li>\n",
       "\t<li>13</li>\n",
       "\t<li>14</li>\n",
       "\t<li>15</li>\n",
       "</ol>\n"
      ],
      "text/latex": [
       "\\begin{enumerate*}\n",
       "\\item 2\n",
       "\\item 3\n",
       "\\item 4\n",
       "\\item 8\n",
       "\\item 9\n",
       "\\item 12\n",
       "\\item 13\n",
       "\\item 14\n",
       "\\item 15\n",
       "\\end{enumerate*}\n"
      ],
      "text/markdown": [
       "1. 2\n",
       "2. 3\n",
       "3. 4\n",
       "4. 8\n",
       "5. 9\n",
       "6. 12\n",
       "7. 13\n",
       "8. 14\n",
       "9. 15\n",
       "\n",
       "\n"
      ],
      "text/plain": [
       "[1]  2  3  4  8  9 12 13 14 15"
      ]
     },
     "metadata": {},
     "output_type": "display_data"
    }
   ],
   "source": [
    "cpts(change_points)"
   ]
  },
  {
   "cell_type": "code",
   "execution_count": 8,
   "metadata": {},
   "outputs": [
    {
     "data": {
      "text/html": [
       "15"
      ],
      "text/latex": [
       "15"
      ],
      "text/markdown": [
       "15"
      ],
      "text/plain": [
       "[1] 15"
      ]
     },
     "metadata": {},
     "output_type": "display_data"
    }
   ],
   "source": [
    "last_change_point = cpts(change_points)[number_of_change_points]\n",
    "last_change_point"
   ]
  },
  {
   "cell_type": "markdown",
   "metadata": {},
   "source": [
    "These susceptiblities correspond to the following years."
   ]
  },
  {
   "cell_type": "code",
   "execution_count": 9,
   "metadata": {},
   "outputs": [
    {
     "data": {
      "text/html": [
       "<ol class=list-inline>\n",
       "\t<li>1991</li>\n",
       "\t<li>1992</li>\n",
       "\t<li>1993</li>\n",
       "\t<li>1994</li>\n",
       "\t<li>1995</li>\n",
       "\t<li>1996</li>\n",
       "\t<li>1997</li>\n",
       "\t<li>1998</li>\n",
       "\t<li>1999</li>\n",
       "\t<li>2000</li>\n",
       "\t<li>2001</li>\n",
       "\t<li>2002</li>\n",
       "\t<li>2003</li>\n",
       "\t<li>2004</li>\n",
       "\t<li>2005</li>\n",
       "\t<li>2006</li>\n",
       "\t<li>2007</li>\n",
       "\t<li>2008</li>\n",
       "\t<li>2009</li>\n",
       "</ol>\n"
      ],
      "text/latex": [
       "\\begin{enumerate*}\n",
       "\\item 1991\n",
       "\\item 1992\n",
       "\\item 1993\n",
       "\\item 1994\n",
       "\\item 1995\n",
       "\\item 1996\n",
       "\\item 1997\n",
       "\\item 1998\n",
       "\\item 1999\n",
       "\\item 2000\n",
       "\\item 2001\n",
       "\\item 2002\n",
       "\\item 2003\n",
       "\\item 2004\n",
       "\\item 2005\n",
       "\\item 2006\n",
       "\\item 2007\n",
       "\\item 2008\n",
       "\\item 2009\n",
       "\\end{enumerate*}\n"
      ],
      "text/markdown": [
       "1. 1991\n",
       "2. 1992\n",
       "3. 1993\n",
       "4. 1994\n",
       "5. 1995\n",
       "6. 1996\n",
       "7. 1997\n",
       "8. 1998\n",
       "9. 1999\n",
       "10. 2000\n",
       "11. 2001\n",
       "12. 2002\n",
       "13. 2003\n",
       "14. 2004\n",
       "15. 2005\n",
       "16. 2006\n",
       "17. 2007\n",
       "18. 2008\n",
       "19. 2009\n",
       "\n",
       "\n"
      ],
      "text/plain": [
       " [1] 1991 1992 1993 1994 1995 1996 1997 1998 1999 2000 2001 2002 2003 2004 2005\n",
       "[16] 2006 2007 2008 2009"
      ]
     },
     "metadata": {},
     "output_type": "display_data"
    }
   ],
   "source": [
    "Year = 1991:2009\n",
    "Year"
   ]
  },
  {
   "cell_type": "code",
   "execution_count": 10,
   "metadata": {},
   "outputs": [
    {
     "data": {
      "text/html": [
       "19"
      ],
      "text/latex": [
       "19"
      ],
      "text/markdown": [
       "19"
      ],
      "text/plain": [
       "[1] 19"
      ]
     },
     "metadata": {},
     "output_type": "display_data"
    }
   ],
   "source": [
    "length(Year)"
   ]
  },
  {
   "cell_type": "code",
   "execution_count": 11,
   "metadata": {},
   "outputs": [
    {
     "data": {
      "text/html": [
       "<ol class=list-inline>\n",
       "\t<li>83</li>\n",
       "\t<li>82</li>\n",
       "\t<li>82</li>\n",
       "\t<li>78</li>\n",
       "</ol>\n"
      ],
      "text/latex": [
       "\\begin{enumerate*}\n",
       "\\item 83\n",
       "\\item 82\n",
       "\\item 82\n",
       "\\item 78\n",
       "\\end{enumerate*}\n"
      ],
      "text/markdown": [
       "1. 83\n",
       "2. 82\n",
       "3. 82\n",
       "4. 78\n",
       "\n",
       "\n"
      ],
      "text/plain": [
       "[1] 83 82 82 78"
      ]
     },
     "metadata": {},
     "output_type": "display_data"
    }
   ],
   "source": [
    "susceptibilities[(last_change_point+1):n]"
   ]
  },
  {
   "cell_type": "code",
   "execution_count": 12,
   "metadata": {},
   "outputs": [
    {
     "data": {
      "text/html": [
       "<ol class=list-inline>\n",
       "\t<li>2006</li>\n",
       "\t<li>2007</li>\n",
       "\t<li>2008</li>\n",
       "\t<li>2009</li>\n",
       "</ol>\n"
      ],
      "text/latex": [
       "\\begin{enumerate*}\n",
       "\\item 2006\n",
       "\\item 2007\n",
       "\\item 2008\n",
       "\\item 2009\n",
       "\\end{enumerate*}\n"
      ],
      "text/markdown": [
       "1. 2006\n",
       "2. 2007\n",
       "3. 2008\n",
       "4. 2009\n",
       "\n",
       "\n"
      ],
      "text/plain": [
       "[1] 2006 2007 2008 2009"
      ]
     },
     "metadata": {},
     "output_type": "display_data"
    }
   ],
   "source": [
    "Year[(last_change_point+1):n]"
   ]
  },
  {
   "cell_type": "code",
   "execution_count": 13,
   "metadata": {},
   "outputs": [
    {
     "data": {
      "text/plain": [
       "\n",
       "Call:\n",
       "lm(formula = (susceptibilities[(last_change_point + 1):n]) ~ \n",
       "    (Year[(last_change_point + 1):n]))\n",
       "\n",
       "Coefficients:\n",
       "                    (Intercept)  Year[(last_change_point + 1):n]  \n",
       "                         3092.5                             -1.5  \n"
      ]
     },
     "metadata": {},
     "output_type": "display_data"
    }
   ],
   "source": [
    "model<-lm((susceptibilities[(last_change_point+1):n])~(Year[(last_change_point+1):n]))\n",
    "model"
   ]
  },
  {
   "cell_type": "code",
   "execution_count": 14,
   "metadata": {},
   "outputs": [
    {
     "data": {
      "text/html": [
       "<strong>(Intercept):</strong> 62.5"
      ],
      "text/latex": [
       "\\textbf{(Intercept):} 62.5"
      ],
      "text/markdown": [
       "**(Intercept):** 62.5"
      ],
      "text/plain": [
       "(Intercept) \n",
       "       62.5 "
      ]
     },
     "metadata": {},
     "output_type": "display_data"
    }
   ],
   "source": [
    "prediction<-(model$coefficients[1])+(2020*(model$coefficients[2]))\n",
    "prediction"
   ]
  },
  {
   "cell_type": "code",
   "execution_count": 16,
   "metadata": {},
   "outputs": [
    {
     "data": {
      "image/png": "[encoded data removed]",
      "text/plain": [
       "plot without title"
      ]
     },
     "metadata": {},
     "output_type": "display_data"
    }
   ],
   "source": [
    "plot(Year,susceptibilities,\n",
    "    ylim=c(60,100),xlim=c(1990,2020),xlab=\"Year\",ylab=\"Susceptibility\")\n",
    "abline(model$coefficients)"
   ]
  },
  {
   "cell_type": "code",
   "execution_count": null,
   "metadata": {},
   "outputs": [],
   "source": []
  },
  {
   "cell_type": "code",
   "execution_count": null,
   "metadata": {},
   "outputs": [],
   "source": []
  }
 ],
 "metadata": {
  "kernelspec": {
   "display_name": "R",
   "language": "R",
   "name": "ir"
  },
  "language_info": {
   "codemirror_mode": "r",
   "file_extension": ".r",
   "mimetype": "text/x-r-source",
   "name": "R",
   "pygments_lexer": "r",
   "version": "3.4.3"
  }
 },
 "nbformat": 4,
 "nbformat_minor": 2
}
